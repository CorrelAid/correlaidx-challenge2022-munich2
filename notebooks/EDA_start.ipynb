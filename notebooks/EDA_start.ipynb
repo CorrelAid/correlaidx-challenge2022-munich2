{
 "cells": [
  {
   "cell_type": "code",
   "execution_count": null,
   "id": "c09f4e9f",
   "metadata": {},
   "outputs": [],
   "source": [
    "import pandas as pd"
   ]
  },
  {
   "cell_type": "markdown",
   "id": "d9c24df5",
   "metadata": {},
   "source": [
    "### The way it was in the example from Dimi (using neo4j-driver):"
   ]
  },
  {
   "cell_type": "code",
   "execution_count": null,
   "id": "fd213862",
   "metadata": {},
   "outputs": [],
   "source": [
    "# pip install neo4j-driver\n",
    "\n",
    "from neo4j import GraphDatabase, basic_auth\n",
    "\n",
    "driver = GraphDatabase.driver(\n",
    "  \"bolt://localhost:7687\",\n",
    "  auth=basic_auth(\"neo4j\", \"0306\"))\n",
    "\n",
    "cypher_query = '''\n",
    "MATCH (a:Officer {name:$name})-[r:officer_of|intermediary_of|registered_address*..10]-(b)\n",
    "RETURN b.name as name, b.node_id as node_id LIMIT 20\n",
    "'''\n",
    "\n",
    "with driver.session(database=\"neo4j\") as session:\n",
    "  results = session.read_transaction(\n",
    "    lambda tx: tx.run(cypher_query,\n",
    "                      name=\"Ross, Jr. - Wilbur Louis\").data())\n",
    "  for record in results:\n",
    "    print(record)\n",
    "  df = pd.DataFrame().from_records(results)\n",
    "\n",
    "driver.close()\n",
    "df.head()"
   ]
  },
  {
   "cell_type": "markdown",
   "id": "d2121c23",
   "metadata": {},
   "source": [
    "### If you want to use the graphdatascience client instead: \n",
    "You can find more information about the gds python client itself and its methods etc. [here](https://neo4j.com/docs/graph-data-science-client/current/graph-object/).\n",
    "General tutorials on the Graph Data Science plugin can be found [here](https://neo4j.com/docs/graph-data-science-client/current/graph-object/)."
   ]
  },
  {
   "cell_type": "code",
   "execution_count": null,
   "id": "c52cc399",
   "metadata": {},
   "outputs": [],
   "source": [
    "# pip install graphdatascience\n",
    "from graphdatascience import GraphDataScience\n",
    "\n",
    "# Use Neo4j URI and credentials according to your setup\n",
    "# NEO4J_URI could look similar to \"bolt://my-server.neo4j.io:7687\"\n",
    "gds = GraphDataScience(\"bolt://localhost:7687\", auth=(\"neo4j\", \"0306\"))\n",
    "\n",
    "# Check the installed GDS version on the server\n",
    "print(gds.version())\n",
    "assert gds.version()"
   ]
  },
  {
   "cell_type": "code",
   "execution_count": null,
   "id": "2858fc8d",
   "metadata": {},
   "outputs": [],
   "source": [
    "# a simple cypher query:\n",
    "\n",
    "degree_df = gds.run_cypher(\"\"\"\n",
    "MATCH (c)\n",
    "RETURN c.name AS character,\n",
    "       size((c)--()) AS degree, labels(c) as type\n",
    "LIMIT 10\n",
    "\"\"\")\n",
    "\n",
    "degree_df.head() #did return a pandas df "
   ]
  },
  {
   "cell_type": "code",
   "execution_count": null,
   "id": "fe6c235f",
   "metadata": {},
   "outputs": [],
   "source": [
    "# Project the graph into the GDS Graph Catalog\n",
    "# We call the object representing the projected graph `G`\n",
    "# note that you can't create a graph projection which already exists. The graph catalog is the same, i.e. shared, as the one you can access within the neo4j browser \n",
    "G, project_result = gds.graph.project(\"native-proj\",\"*\", {\"link\": {\"type\": '*', \"orientation\": 'UNDIRECTED'}})\n",
    "\n",
    "# list objects in current graph catalog (\"native-proj\" should be there now)\n",
    "gds.graph.list()"
   ]
  },
  {
   "cell_type": "code",
   "execution_count": null,
   "id": "6b21e15b",
   "metadata": {},
   "outputs": [],
   "source": [
    "# some numbers about our graph\n",
    "print(\"Number of edges: \", G.relationship_count())\n",
    "print(\"Number of nodes: \", G.node_count())\n",
    "print(\"Graph density: \", G.density())"
   ]
  },
  {
   "cell_type": "code",
   "execution_count": null,
   "id": "a54b9c4f",
   "metadata": {},
   "outputs": [],
   "source": [
    "G.drop() # removes the graph from the graph catalog\n",
    "gds.close()"
   ]
  }
 ],
 "metadata": {
  "kernelspec": {
   "display_name": "Challenge",
   "language": "python",
   "name": "challenge"
  },
  "language_info": {
   "codemirror_mode": {
    "name": "ipython",
    "version": 3
   },
   "file_extension": ".py",
   "mimetype": "text/x-python",
   "name": "python",
   "nbconvert_exporter": "python",
   "pygments_lexer": "ipython3",
   "version": "3.10.8"
  }
 },
 "nbformat": 4,
 "nbformat_minor": 5
}
