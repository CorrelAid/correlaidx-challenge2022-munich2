{
 "cells": [
  {
   "cell_type": "code",
   "execution_count": 1,
   "id": "c09f4e9f",
   "metadata": {},
   "outputs": [],
   "source": [
    "import pandas as pd"
   ]
  },
  {
   "cell_type": "markdown",
   "id": "d2121c23",
   "metadata": {},
   "source": [
    "### Initialize graphdatascience client"
   ]
  },
  {
   "cell_type": "code",
   "execution_count": 2,
   "id": "c52cc399",
   "metadata": {},
   "outputs": [
    {
     "name": "stdout",
     "output_type": "stream",
     "text": [
      "2.2.5\n"
     ]
    }
   ],
   "source": [
    "# pip install graphdatascience\n",
    "from graphdatascience import GraphDataScience\n",
    "\n",
    "# Use Neo4j URI and credentials according to your setup\n",
    "# NEO4J_URI could look similar to \"bolt://my-server.neo4j.io:7687\"\n",
    "gds = GraphDataScience(\"bolt://localhost:7687\", auth=(\"neo4j\", \"0306\"))\n",
    "\n",
    "# Check the installed GDS version on the server\n",
    "print(gds.version())\n",
    "assert gds.version()"
   ]
  },
  {
   "cell_type": "markdown",
   "id": "49178a1e",
   "metadata": {},
   "source": [
    "### Search for names in list"
   ]
  },
  {
   "cell_type": "markdown",
   "id": "6f1185fa",
   "metadata": {},
   "source": [
    "The names parser assumes that the last name is either at the end or if the name contains a \",\" at the beginning. It can deal with lower/upper case, different spellings for german letters, combined names (\"-\"), several first names. It can not del with additional \",\" other special titles like \"zu\" or \"von\" as aprt of the last name (will assume they are part of the first name)"
   ]
  },
  {
   "cell_type": "code",
   "execution_count": 32,
   "id": "bbede907",
   "metadata": {},
   "outputs": [],
   "source": [
    "df = pd.read_csv('names.csv', sep=\";\")\n",
    "df.head()"
   ]
  },
  {
   "cell_type": "code",
   "execution_count": 34,
   "id": "2e29add1",
   "metadata": {},
   "outputs": [],
   "source": [
    "def names_lists(name):    \n",
    "    last_name = []\n",
    "    first_name = []\n",
    "\n",
    "    # remove \"Prof.\" & \"Dr.\" & \",\"\n",
    "    # lower case everywhere\n",
    "    # split at space;\n",
    "    split_name = name.replace(\"Prof.\", \"\").replace(\"Dr.\", \"\").replace(\",\", \"\").lower().split()\n",
    "\n",
    "\n",
    "    # split first and last name & switch positions if \",\"\n",
    "    if name.count(\",\") > 0:\n",
    "        last_name.append(split_name[0]) #start:stop:step\n",
    "        first_name = split_name[1:]\n",
    "    else:\n",
    "        last_name.append(split_name[len(split_name)-1])\n",
    "        first_name = split_name[:len(split_name)-1]\n",
    "\n",
    "\n",
    "    # replace ß, ü, ä, ö\n",
    "    def extending_german_letters(names):\n",
    "        ret_names = []\n",
    "        for name in names:\n",
    "            ret_names.append(name)\n",
    "            count = name.count(\"ä\")\n",
    "            if count > 0:\n",
    "                ret_names.append(name.replace(\"ä\", \"ae\"))\n",
    "                ret_names.append(name.replace(\"ä\", \"a\"))\n",
    "            count = name.count(\"ö\")\n",
    "            if count > 0:\n",
    "                ret_names.append(name.replace(\"ö\", \"oe\"))\n",
    "                ret_names.append(name.replace(\"ö\", \"o\"))\n",
    "            count = name.count(\"ü\")\n",
    "            if count > 0:\n",
    "                ret_names.append(name.replace(\"ü\", \"ue\"))\n",
    "                ret_names.append(name.replace(\"ü\", \"u\"))\n",
    "            count = name.count(\"ß\")\n",
    "            if count > 0:\n",
    "                ret_names.append(name.replace(\"ß\", \"ss\"))\n",
    "                ret_names.append(name.replace(\"ß\", \"s\"))\n",
    "        return ret_names\n",
    "\n",
    "\n",
    "    # split at \"-\"\n",
    "    ext_first_name = []\n",
    "    for name in extending_german_letters(first_name): ext_first_name = ext_first_name + name.split(\"-\")\n",
    "    #print(ext_first_name)\n",
    "\n",
    "    ext_last_name = []\n",
    "    for name in extending_german_letters(last_name): ext_last_name = ext_last_name + name.split(\"-\")\n",
    "    #print(ext_last_name)\n",
    "\n",
    "\n",
    "    return ext_first_name, ext_last_name"
   ]
  },
  {
   "cell_type": "code",
   "execution_count": 42,
   "id": "b975cb4f",
   "metadata": {},
   "outputs": [],
   "source": [
    "def find_name(f_names, l_names):\n",
    "    if f_names and l_names:\n",
    "        cypher_query_template = '''\n",
    "        match (o:Officer)\n",
    "        where tolower(o.name) contains '{f_name}' and  tolower(o.name) contains '{l_name}'\n",
    "        return distinct o.name as name\n",
    "        '''\n",
    "    elif f_names:\n",
    "        cypher_query_template = '''\n",
    "        match (o:Officer)\n",
    "        where tolower(o.name) contains '{f_name}'\n",
    "        return distinct o.name as name\n",
    "        '''\n",
    "    else:\n",
    "        cypher_query_template = '''\n",
    "        match (o:Officer)\n",
    "        where tolower(o.name) contains '{l_name}'\n",
    "        return distinct o.name as name\n",
    "        '''\n",
    "    \n",
    "    \n",
    "    res_df = pd.DataFrame({'name' : []})\n",
    "    \n",
    "    \n",
    "    \n",
    "    for f_name in f_names:\n",
    "        for l_name in l_names:\n",
    "            cypher_query = cypher_query_template.format(f_name=f_name, l_name=l_name)\n",
    "            df = gds.run_cypher(cypher_query)\n",
    "            #print(df)\n",
    "            res_df = pd.concat([res_df, df], ignore_index=True)\n",
    "    \n",
    "    return res_df"
   ]
  },
  {
   "cell_type": "code",
   "execution_count": 43,
   "id": "148f711f",
   "metadata": {},
   "outputs": [
    {
     "data": {
      "text/html": [
       "<div>\n",
       "<style scoped>\n",
       "    .dataframe tbody tr th:only-of-type {\n",
       "        vertical-align: middle;\n",
       "    }\n",
       "\n",
       "    .dataframe tbody tr th {\n",
       "        vertical-align: top;\n",
       "    }\n",
       "\n",
       "    .dataframe thead th {\n",
       "        text-align: right;\n",
       "    }\n",
       "</style>\n",
       "<table border=\"1\" class=\"dataframe\">\n",
       "  <thead>\n",
       "    <tr style=\"text-align: right;\">\n",
       "      <th></th>\n",
       "      <th>name</th>\n",
       "    </tr>\n",
       "  </thead>\n",
       "  <tbody>\n",
       "    <tr>\n",
       "      <th>0</th>\n",
       "      <td>WOLFGANG PETER EGGER</td>\n",
       "    </tr>\n",
       "  </tbody>\n",
       "</table>\n",
       "</div>"
      ],
      "text/plain": [
       "                   name\n",
       "0  WOLFGANG PETER EGGER"
      ]
     },
     "execution_count": 43,
     "metadata": {},
     "output_type": "execute_result"
    }
   ],
   "source": [
    "find_name([\"wolfgang\"], [\"egger\"])"
   ]
  },
  {
   "cell_type": "code",
   "execution_count": 47,
   "id": "371bbd53",
   "metadata": {},
   "outputs": [
    {
     "name": "stderr",
     "output_type": "stream",
     "text": [
      "C:\\Users\\danie\\anaconda3\\envs\\Challenge\\lib\\site-packages\\pandas\\core\\dtypes\\cast.py:948: VisibleDeprecationWarning: Creating an ndarray from ragged nested sequences (which is a list-or-tuple of lists-or-tuples-or ndarrays with different lengths or shapes) is deprecated. If you meant to do this, you must specify 'dtype=object' when creating the ndarray.\n",
      "  element = np.asarray(element)\n"
     ]
    },
    {
     "name": "stdout",
     "output_type": "stream",
     "text": [
      "                name  count found_names\n",
      "0      Alfred Sauter      0          []\n",
      "1  Günther Felbinger      0          []\n",
      "2  Charles Smethurst      0          []\n",
      "3         Ünal Bakir      0          []\n",
      "4         Anton Kopp      0          []\n"
     ]
    }
   ],
   "source": [
    "df = df.dropna(subset=['Name'])\n",
    "res = pd.DataFrame({'name' : [], 'count' : [], 'found_names' : []})\n",
    "\n",
    "for i in range(0,df.shape[0]):\n",
    "#for i in range(0,df.shape[0]):\n",
    "        name = df.iloc[i,0]\n",
    "        #print(name)\n",
    "        f_names, l_names = names_lists(name)\n",
    "        names = find_name(f_names, l_names)[\"name\"]\n",
    "        #print(names.head())\n",
    "        res.loc[len(res.index)] = [df.iloc[i,0], len(names), list(names)]\n",
    "\n",
    "print(res.head())"
   ]
  },
  {
   "cell_type": "code",
   "execution_count": 48,
   "id": "01329227",
   "metadata": {},
   "outputs": [],
   "source": [
    "res.to_csv(\"results_search_list.csv\", index=False)\n",
    "#gds.close()"
   ]
  },
  {
   "cell_type": "markdown",
   "id": "e2a133d0",
   "metadata": {},
   "source": [
    "The results can be looked up using the following cypher query:\\\n",
    "match (o)\\\n",
    "where o.name in [found_names]\\\n",
    "return distinct o"
   ]
  }
 ],
 "metadata": {
  "kernelspec": {
   "display_name": "Challenge",
   "language": "python",
   "name": "challenge"
  },
  "language_info": {
   "codemirror_mode": {
    "name": "ipython",
    "version": 3
   },
   "file_extension": ".py",
   "mimetype": "text/x-python",
   "name": "python",
   "nbconvert_exporter": "python",
   "pygments_lexer": "ipython3",
   "version": "3.10.8"
  }
 },
 "nbformat": 4,
 "nbformat_minor": 5
}
